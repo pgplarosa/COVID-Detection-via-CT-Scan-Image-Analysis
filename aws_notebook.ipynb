{
 "cells": [
  {
   "cell_type": "code",
   "execution_count": 2,
   "id": "8faeb617",
   "metadata": {},
   "outputs": [
    {
     "data": {
      "application/vnd.jupyter.widget-view+json": {
       "model_id": "fa16d7a63ad243e3aa419156d28e9d10",
       "version_major": 2,
       "version_minor": 0
      },
      "text/plain": [
       "VBox()"
      ]
     },
     "metadata": {},
     "output_type": "display_data"
    },
    {
     "data": {
      "application/vnd.jupyter.widget-view+json": {
       "model_id": "",
       "version_major": 2,
       "version_minor": 0
      },
      "text/plain": [
       "FloatProgress(value=0.0, bar_style='info', description='Progress:', layout=Layout(height='25px', width='50%'),…"
      ]
     },
     "metadata": {},
     "output_type": "display_data"
    }
   ],
   "source": [
    "import os\n",
    "import shutil\n",
    "\n",
    "import matplotlib.pyplot as plt\n",
    "\n",
    "import nibabel as nib\n",
    "import numpy as np\n",
    "import pandas as pd\n",
    "from PIL import Image, ImageDraw\n",
    "from scipy.spatial import ConvexHull\n",
    "from skimage import measure\n",
    "\n",
    "import glob\n",
    "import csv\n",
    "import cv2\n",
    "import boto3\n",
    "import wget\n",
    "\n",
    "import s3fs\n",
    "import fsspec\n",
    "\n",
    "from io import BytesIO\n",
    "from nibabel import FileHolder, Nifti1Image, Nifti1Header\n",
    "\n",
    "import boto3\n",
    "import io\n",
    "import pickle"
   ]
  },
  {
   "cell_type": "code",
   "execution_count": 3,
   "id": "6d95550c",
   "metadata": {},
   "outputs": [
    {
     "data": {
      "application/vnd.jupyter.widget-view+json": {
       "model_id": "f7fe0d94c33c485c8ea862ebe5c2ec5d",
       "version_major": 2,
       "version_minor": 0
      },
      "text/plain": [
       "VBox()"
      ]
     },
     "metadata": {},
     "output_type": "display_data"
    },
    {
     "data": {
      "application/vnd.jupyter.widget-view+json": {
       "model_id": "",
       "version_major": 2,
       "version_minor": 0
      },
      "text/plain": [
       "FloatProgress(value=0.0, bar_style='info', description='Progress:', layout=Layout(height='25px', width='50%'),…"
      ]
     },
     "metadata": {},
     "output_type": "display_data"
    }
   ],
   "source": [
    "df = pd.read_csv('s3://*?????*/lab2/metadata/clinicaldata.csv')\n",
    "df['image_id'] = df.image_id.str.strip()\n",
    "df = df[df.type.isin([0, 2])]\n",
    "df = df.rename({'type': 'has_covid'}, axis=1)\n",
    "df.loc[df.has_covid == 2, 'has_covid'] = 1"
   ]
  },
  {
   "cell_type": "code",
   "execution_count": 4,
   "id": "8d74a95c",
   "metadata": {},
   "outputs": [
    {
     "data": {
      "application/vnd.jupyter.widget-view+json": {
       "model_id": "25be857ccaa44e69a47a347ae24cef95",
       "version_major": 2,
       "version_minor": 0
      },
      "text/plain": [
       "VBox()"
      ]
     },
     "metadata": {},
     "output_type": "display_data"
    },
    {
     "data": {
      "application/vnd.jupyter.widget-view+json": {
       "model_id": "",
       "version_major": 2,
       "version_minor": 0
      },
      "text/plain": [
       "FloatProgress(value=0.0, bar_style='info', description='Progress:', layout=Layout(height='25px', width='50%'),…"
      ]
     },
     "metadata": {},
     "output_type": "display_data"
    }
   ],
   "source": [
    "df.has_covid.value_counts().plot.bar();\n",
    "plt.show()"
   ]
  },
  {
   "cell_type": "code",
   "execution_count": 5,
   "id": "772b4fd1",
   "metadata": {},
   "outputs": [
    {
     "data": {
      "application/vnd.jupyter.widget-view+json": {
       "model_id": "85082fbfbb264e73a1c55e82145a4894",
       "version_major": 2,
       "version_minor": 0
      },
      "text/plain": [
       "VBox()"
      ]
     },
     "metadata": {},
     "output_type": "display_data"
    },
    {
     "data": {
      "application/vnd.jupyter.widget-view+json": {
       "model_id": "",
       "version_major": 2,
       "version_minor": 0
      },
      "text/plain": [
       "FloatProgress(value=0.0, bar_style='info', description='Progress:', layout=Layout(height='25px', width='50%'),…"
      ]
     },
     "metadata": {},
     "output_type": "display_data"
    }
   ],
   "source": [
    "def show_slice(slice):\n",
    "    plt.figure()\n",
    "    plt.imshow(slice.T, cmap=\"gray\", origin=\"lower\")\n",
    "\n",
    "def show_slice_window(slice, level, window):\n",
    "    max = level + window/2\n",
    "    min = level - window/2\n",
    "    slice = slice.clip(min,max)\n",
    "    plt.figure()\n",
    "    plt.imshow(slice.T, cmap=\"gray\", origin=\"lower\")\n",
    "    plt.savefig('L'+str(level)+'W'+str(window))\n",
    "\n",
    "\n",
    "def overlay_plot(im, mask):\n",
    "    plt.figure()\n",
    "    plt.imshow(im.T, 'gray', interpolation='none')\n",
    "    plt.imshow(mask.T, 'jet', interpolation='none', alpha=0.5)\n",
    "    \n",
    "def make_dirs(path):\n",
    "    if os.path.exists(path):\n",
    "        shutil.rmtree(path)\n",
    "        os.mkdir(path)\n",
    "    else:\n",
    "        os.makedirs(path)\n",
    "\n",
    "def intensity_seg(ct_numpy, min, max):\n",
    "    clipped = ct_numpy.clip(min, max)\n",
    "    clipped[clipped != max] = 1\n",
    "    clipped[clipped == max] = 0\n",
    "    return measure.find_contours(clipped, 0.95)\n",
    "\n",
    "def set_is_closed(contour):\n",
    "    if contour_distance(contour) < 1:\n",
    "        return True\n",
    "    else:\n",
    "        return False\n",
    "\n",
    "def find_lungs(contours):\n",
    "    body_and_lung_contours = []\n",
    "    vol_contours = []\n",
    "\n",
    "    for contour in contours:\n",
    "        hull = ConvexHull(contour)\n",
    "\n",
    "        if hull.volume > 2000 and set_is_closed(contour):\n",
    "            body_and_lung_contours.append(contour)\n",
    "            vol_contours.append(hull.volume)\n",
    "\n",
    "    if len(body_and_lung_contours) == 2:\n",
    "        return body_and_lung_contours\n",
    "    elif len(body_and_lung_contours) > 2:\n",
    "        (vol_contours, \n",
    "         body_and_lung_contours) = (list(t) \n",
    "                                    for t in \n",
    "                                    zip(*sorted(zip(vol_contours, \n",
    "                                                    body_and_lung_contours))))\n",
    "        body_and_lung_contours.pop(-1)\n",
    "        return body_and_lung_contours\n",
    "\n",
    "\n",
    "def show_contour(image, contours, name=None, save=False):\n",
    "    fig, ax = plt.subplots()\n",
    "    ax.imshow(image.T, cmap=plt.cm.gray)\n",
    "    for contour in contours:\n",
    "        ax.plot(contour[:, 0], contour[:, 1], linewidth=1)\n",
    "\n",
    "    ax.set_xticks([])\n",
    "    ax.set_yticks([])\n",
    "\n",
    "    if save:\n",
    "        plt.savefig(name)\n",
    "        plt.close(fig)\n",
    "    else:\n",
    "        plt.show()\n",
    "\n",
    "\n",
    "\n",
    "def create_mask_from_polygon(image, contours):\n",
    "    lung_mask = np.array(Image.new('L', image.shape, 0))\n",
    "    mask_check = []\n",
    "    for contour in contours:\n",
    "        x = contour[:, 0]\n",
    "        y = contour[:, 1]\n",
    "        polygon_tuple = list(zip(x, y))\n",
    "        img = Image.new('L', image.shape, 0)\n",
    "        ImageDraw.Draw(img).polygon(polygon_tuple, outline=0, fill=1)\n",
    "        mask = np.array(img)\n",
    "        if mask.sum() > 2000:\n",
    "            mask_check.append(mask)\n",
    "            lung_mask += mask\n",
    "\n",
    "    if (lung_mask.max() > 1) or (len(mask_check) < 2):\n",
    "        return np.array([])\n",
    "    else:\n",
    "        return lung_mask.T\n",
    "\n",
    "def save_nifty(img_np, name, affine):\n",
    "    img_np[img_np == 1] = 255\n",
    "    ni_img = nib.Nifti1Image(img_np, affine)\n",
    "    nib.save(ni_img, name + '.nii')\n",
    "\n",
    "\n",
    "def find_pix_dim(ct_img):\n",
    "    pix_dim = ct_img.header[\"pixdim\"]\n",
    "    dim = ct_img.header[\"dim\"]\n",
    "    max_indx = np.argmax(dim)\n",
    "    pixdimX = pix_dim[max_indx]\n",
    "    dim = np.delete(dim, max_indx)\n",
    "    pix_dim = np.delete(pix_dim, max_indx)\n",
    "    max_indy = np.argmax(dim)\n",
    "    pixdimY = pix_dim[max_indy]\n",
    "    return [pixdimX, pixdimY]\n",
    "\n",
    "def contour_distance(contour):\n",
    "    dx = contour[0, 1] - contour[-1, 1]\n",
    "    dy = contour[0, 0] - contour[-1, 0]\n",
    "    return np.sqrt(np.power(dx, 2) + np.power(dy, 2))\n",
    "\n",
    "def compute_area(mask, pixdim):\n",
    "    mask[mask >= 1] = 1\n",
    "    lung_pixels = np.sum(mask)\n",
    "    return lung_pixels * pixdim[0] * pixdim[1]\n",
    "\n",
    "def euclidean_dist(dx, dy):\n",
    "    return np.sqrt(np.power(dx, 2) + np.power(dy, 2))\n",
    "\n",
    "def denoise_vessels(lung_contour, vessels):\n",
    "    vessels_coords_x, vessels_coords_y = np.nonzero(vessels)\n",
    "    for contour in lung_contour:\n",
    "        x_points, y_points = contour[:, 0], contour[:, 1]\n",
    "        for (coord_x, coord_y) in zip(vessels_coords_x, vessels_coords_y):\n",
    "            for (x, y) in zip(x_points, y_points):\n",
    "                d = euclidean_dist(x - coord_x, y - coord_y)\n",
    "                if d <= 0.1:\n",
    "                    vessels[coord_x, coord_y] = 0\n",
    "    return vessels\n",
    "\n",
    "def split_array_coords(array, indx=0, indy=1):\n",
    "    x = [array[i][indx] for i in range(len(array))]\n",
    "    y = [array[i][indy] for i in range(len(array))]\n",
    "    return x, y\n",
    "\n",
    "\n",
    "def create_vessel_mask(lung_mask, ct_numpy, denoise=False):\n",
    "    vessels = lung_mask * ct_numpy\n",
    "    vessels[vessels == 0] = -1000\n",
    "    vessels[vessels >= -500] = 1\n",
    "    vessels[vessels < -500] = 0\n",
    "    show_slice(vessels)\n",
    "    if denoise:\n",
    "        return denoise_vessels(lungs, vessels)\n",
    "    \n",
    "    show_slice(vessels)\n",
    "\n",
    "    return vessels"
   ]
  },
  {
   "cell_type": "code",
   "execution_count": 6,
   "id": "61b00be7",
   "metadata": {},
   "outputs": [
    {
     "data": {
      "application/vnd.jupyter.widget-view+json": {
       "model_id": "8fda7c1414724ad5a941911b350d4279",
       "version_major": 2,
       "version_minor": 0
      },
      "text/plain": [
       "VBox()"
      ]
     },
     "metadata": {},
     "output_type": "display_data"
    },
    {
     "data": {
      "application/vnd.jupyter.widget-view+json": {
       "model_id": "",
       "version_major": 2,
       "version_minor": 0
      },
      "text/plain": [
       "FloatProgress(value=0.0, bar_style='info', description='Progress:', layout=Layout(height='25px', width='50%'),…"
      ]
     },
     "metadata": {},
     "output_type": "display_data"
    }
   ],
   "source": [
    "def filter_slices(exam_path):\n",
    "    try:\n",
    "        s3_client = boto3.client('s3')\n",
    "        s3_response_object = s3_client.get_object(Bucket='*?????????*', \n",
    "                                                  Key=exam_path)\n",
    "\n",
    "        object_content = s3_response_object['Body'].read()\n",
    "\n",
    "\n",
    "        fh = FileHolder(fileobj=BytesIO(object_content))\n",
    "        img = Nifti1Image.from_file_map({'header': fh, 'image': fh})\n",
    "\n",
    "        img_name = exam_path.split(\"/\")[-1].split('.nii')[0]\n",
    "\n",
    "        ct_img = img\n",
    "        pixdim = find_pix_dim(ct_img)\n",
    "\n",
    "        lung_list = []\n",
    "        for i in range(ct_img.shape[2]):\n",
    "            ct_numpy = ct_img.get_fdata()[:, :, i]\n",
    "\n",
    "            contours = intensity_seg(ct_numpy, min=-1000, max=-300)\n",
    "            lungs = find_lungs(contours)\n",
    "\n",
    "            if lungs == None:\n",
    "                lung_area = 0\n",
    "                lung_list.append(lung_area)\n",
    "            else:\n",
    "                lung_mask = create_mask_from_polygon(ct_numpy, lungs)\n",
    "\n",
    "                if not lung_mask.any():\n",
    "                    lung_area = 0\n",
    "                    lung_list.append(lung_area)\n",
    "\n",
    "                else:\n",
    "                    lung_area = compute_area(lung_mask, find_pix_dim(ct_img))\n",
    "                    lung_list.append(lung_area)\n",
    "\n",
    "        ct_numpy = ct_img.get_fdata()[:, :, np.argmax(lung_list)] \n",
    "\n",
    "        contours = intensity_seg(ct_numpy, min=-1000, max=-300)\n",
    "\n",
    "        lungs = find_lungs(contours)\n",
    "        lung_mask = create_mask_from_polygon(ct_numpy, lungs)\n",
    "        img = cv2.rotate(ct_numpy, cv2.ROTATE_90_COUNTERCLOCKWISE)\n",
    "    except:\n",
    "        return None\n",
    "    \n",
    "    return ct_numpy"
   ]
  },
  {
   "cell_type": "code",
   "execution_count": 7,
   "id": "d1aaee72",
   "metadata": {},
   "outputs": [
    {
     "data": {
      "application/vnd.jupyter.widget-view+json": {
       "model_id": "e9298da0962b4376a411afe790bd252c",
       "version_major": 2,
       "version_minor": 0
      },
      "text/plain": [
       "VBox()"
      ]
     },
     "metadata": {},
     "output_type": "display_data"
    },
    {
     "data": {
      "application/vnd.jupyter.widget-view+json": {
       "model_id": "",
       "version_major": 2,
       "version_minor": 0
      },
      "text/plain": [
       "FloatProgress(value=0.0, bar_style='info', description='Progress:', layout=Layout(height='25px', width='50%'),…"
      ]
     },
     "metadata": {},
     "output_type": "display_data"
    }
   ],
   "source": [
    "s = 'lab2/images/' + df.image_id + '.nii'"
   ]
  },
  {
   "cell_type": "code",
   "execution_count": 8,
   "id": "b8470913",
   "metadata": {},
   "outputs": [
    {
     "data": {
      "application/vnd.jupyter.widget-view+json": {
       "model_id": "8e33303a007441bb9090b3cdb38fc28f",
       "version_major": 2,
       "version_minor": 0
      },
      "text/plain": [
       "VBox()"
      ]
     },
     "metadata": {},
     "output_type": "display_data"
    },
    {
     "data": {
      "application/vnd.jupyter.widget-view+json": {
       "model_id": "",
       "version_major": 2,
       "version_minor": 0
      },
      "text/plain": [
       "FloatProgress(value=0.0, bar_style='info', description='Progress:', layout=Layout(height='25px', width='50%'),…"
      ]
     },
     "metadata": {},
     "output_type": "display_data"
    }
   ],
   "source": [
    "x = (sc.parallelize(s.to_list()[:500])\n",
    "       .map(lambda x: (x.split(\"/\")[-1].split('.nii')[0], \n",
    "                       filter_slices(x)))).collect()\n",
    "\n",
    "s3_client = boto3.client('s3')\n",
    "my_array_data = io.BytesIO()\n",
    "pickle.dump(x, my_array_data)\n",
    "my_array_data.seek(0)\n",
    "s3_client.upload_fileobj(my_array_data, '*??????*', 'data4.pkl')"
   ]
  },
  {
   "cell_type": "code",
   "execution_count": 8,
   "id": "aaf5a9bd",
   "metadata": {},
   "outputs": [
    {
     "data": {
      "application/vnd.jupyter.widget-view+json": {
       "model_id": "30cf5b061e464438a16a054ec766722a",
       "version_major": 2,
       "version_minor": 0
      },
      "text/plain": [
       "VBox()"
      ]
     },
     "metadata": {},
     "output_type": "display_data"
    },
    {
     "data": {
      "application/vnd.jupyter.widget-view+json": {
       "model_id": "",
       "version_major": 2,
       "version_minor": 0
      },
      "text/plain": [
       "FloatProgress(value=0.0, bar_style='info', description='Progress:', layout=Layout(height='25px', width='50%'),…"
      ]
     },
     "metadata": {},
     "output_type": "display_data"
    }
   ],
   "source": [
    "x = (sc.parallelize(s.to_list()[500:])\n",
    "       .map(lambda x: (x.split(\"/\")[-1].split('.nii')[0], \n",
    "                       filter_slices(x)))).collect()\n",
    "\n",
    "s3_client = boto3.client('s3')\n",
    "my_array_data = io.BytesIO()\n",
    "pickle.dump(x, my_array_data)\n",
    "my_array_data.seek(0)\n",
    "s3_client.upload_fileobj(my_array_data, '*????????*', 'data3.pkl')"
   ]
  },
  {
   "cell_type": "code",
   "execution_count": null,
   "id": "355e6c13",
   "metadata": {},
   "outputs": [],
   "source": []
  }
 ],
 "metadata": {
  "kernelspec": {
   "display_name": "PySpark",
   "language": "",
   "name": "pysparkkernel"
  },
  "language_info": {
   "codemirror_mode": {
    "name": "python",
    "version": 3
   },
   "mimetype": "text/x-python",
   "name": "pyspark",
   "pygments_lexer": "python3"
  }
 },
 "nbformat": 4,
 "nbformat_minor": 5
}
